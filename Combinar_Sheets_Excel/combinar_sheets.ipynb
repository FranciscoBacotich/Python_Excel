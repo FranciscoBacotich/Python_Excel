{
 "cells": [
  {
   "cell_type": "code",
   "execution_count": 1,
   "id": "bc8c911f",
   "metadata": {},
   "outputs": [],
   "source": [
    "import pandas as pd"
   ]
  },
  {
   "cell_type": "code",
   "execution_count": 5,
   "id": "4cf3fce6",
   "metadata": {},
   "outputs": [],
   "source": [
    "filename = 'Splited Raw Data.xlsx'"
   ]
  },
  {
   "cell_type": "markdown",
   "id": "13ce0009",
   "metadata": {},
   "source": [
    "2 FORMAS PARA EXTRAER LOS SHEET NAMES"
   ]
  },
  {
   "cell_type": "code",
   "execution_count": null,
   "id": "c4d65a59",
   "metadata": {},
   "outputs": [
    {
     "data": {
      "text/plain": [
       "['Genderfluid',\n",
       " 'Male',\n",
       " 'Female',\n",
       " 'Non-binary',\n",
       " 'Agender',\n",
       " 'Bigender',\n",
       " 'Genderqueer',\n",
       " 'Polygender']"
      ]
     },
     "execution_count": 6,
     "metadata": {},
     "output_type": "execute_result"
    }
   ],
   "source": [
    "#1\n",
    "pd.ExcelFile(filename).sheet_names"
   ]
  },
  {
   "cell_type": "code",
   "execution_count": null,
   "id": "a0c870bf",
   "metadata": {},
   "outputs": [
    {
     "data": {
      "text/plain": [
       "['Genderfluid',\n",
       " 'Male',\n",
       " 'Female',\n",
       " 'Non-binary',\n",
       " 'Agender',\n",
       " 'Bigender',\n",
       " 'Genderqueer',\n",
       " 'Polygender']"
      ]
     },
     "execution_count": 7,
     "metadata": {},
     "output_type": "execute_result"
    }
   ],
   "source": [
    "#2\n",
    "list(pd.read_excel(filename, None).keys())"
   ]
  },
  {
   "cell_type": "markdown",
   "id": "21434695",
   "metadata": {},
   "source": [
    "COMBINAR TODO EN UNO"
   ]
  },
  {
   "cell_type": "code",
   "execution_count": 14,
   "id": "650b6332",
   "metadata": {},
   "outputs": [],
   "source": [
    "writer = pd.ExcelWriter(\"CombinedData.xlsx\", engine=\"xlsxwriter\")\n",
    "\n",
    "#Blank DF\n",
    "CombinedData = []\n",
    "\n",
    "#Loop to populate. Leemos el documento, guardamos en un df esa sheet, y esa sheet en el nuevo Df. \n",
    "# Luego se itera y se repite por cada hoja.\n",
    "for sht in pd.ExcelFile(filename).sheet_names:\n",
    "    df = pd.read_excel(filename, sheet_name= sht)\n",
    "    CombinedData.append(df)\n",
    "\n",
    "\n",
    "# Combinar todos en uno solo\n",
    "CombinedData = pd.concat(CombinedData, ignore_index=True)\n",
    "\n",
    "CombinedData.to_excel(writer, sheet_name=\"AllData\", index = False)\n",
    "\n",
    "writer.close()"
   ]
  }
 ],
 "metadata": {
  "kernelspec": {
   "display_name": "venv",
   "language": "python",
   "name": "python3"
  },
  "language_info": {
   "codemirror_mode": {
    "name": "ipython",
    "version": 3
   },
   "file_extension": ".py",
   "mimetype": "text/x-python",
   "name": "python",
   "nbconvert_exporter": "python",
   "pygments_lexer": "ipython3",
   "version": "3.12.5"
  }
 },
 "nbformat": 4,
 "nbformat_minor": 5
}
