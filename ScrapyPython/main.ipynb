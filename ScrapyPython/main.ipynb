{
 "cells": [
  {
   "cell_type": "markdown",
   "id": "9c3f5ea2",
   "metadata": {},
   "source": [
    "# Scrapy Tutorial"
   ]
  },
  {
   "cell_type": "markdown",
   "id": "798fa6b3",
   "metadata": {},
   "source": [
    "https://docs.scrapy.org/en/latest/intro/tutorial.html\n",
    "\n",
    "Creating a new Scrapy project\n",
    "\n",
    "Writing a spider to crawl a site and extract data\n",
    "\n",
    "Exporting the scraped data using the command line\n",
    "\n",
    "Changing spider to recursively follow links\n",
    "\n",
    "Using spider arguments"
   ]
  },
  {
   "cell_type": "code",
   "execution_count": null,
   "id": "6deae9ea",
   "metadata": {
    "vscode": {
     "languageId": "plaintext"
    }
   },
   "outputs": [],
   "source": []
  }
 ],
 "metadata": {
  "language_info": {
   "name": "python"
  }
 },
 "nbformat": 4,
 "nbformat_minor": 5
}
